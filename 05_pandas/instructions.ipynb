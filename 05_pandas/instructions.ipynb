{
    "cells": [
        {
            "cell_type": "markdown",
            "metadata": {},
            "source": [
                "# Analyse de tableaux de donn\u00e9es avec pandas"
            ]
        },
        {
            "cell_type": "markdown",
            "metadata": {},
            "source": [
                "## 1 Introduction\n",
                "Vous aurez besoin d\u2019au moins 5 Go de RAM disponible pour la suite de ce TD. Si vous comptiez utiliser votre ordinateur personnel mais que ce dernier ne dispose pas de 5 Go de RAM disponible, utilisez les ordinateurs de l'\u00e9cole.\n",
                "\n",
                "Le notebook contient \u00e0 la fois des parties plut\u00f4t \"tutoriel\" : ces parties vous montrent les capacit\u00e9s de pandas, et vous demandent d'executer des cellules de code pr\u00e9-remplies. Si l'\u00e9nonc\u00e9 vous fournit le r\u00e9sultat attendu, v\u00e9rfiez simplement que le r\u00e9sultat que vous obtenez est correct.\n",
                "Le notebook contient \u00e9galement des questions ainsi qu'un exercice final dans lesquels c'est \u00e0 vous de trouver et ajouter les lignes de code r\u00e9pondant au probl\u00e8me !\n",
                "\n",
                "\n",
                "### 1.1 Objectif\n",
                "L\u2019objectif de cette s\u00e9ance est de se familiariser avec la manipulation et le traitement de (potentiellement gros) tableaux de donn\u00e9es en python, pour en ressortir une information pr\u00e9cise. Par tableau on entend \u201cune liste d'\u00e9l\u00e9ments (les lignes du tableau) poss\u00e9dant tous les m\u00eames attributs (les colonnes du tableau)\u201d, \u00e0 l\u2019instar de ce que l\u2019on peut trouver dans un classeur Excel ou une table de base de donn\u00e9es SQL.\n",
                "Pour ce TD, nous utiliserons le package python pandas en chargeant des tableaux depuis des fichiers csv (Comma Separated Values: fichier texte contenant des valeurs s\u00e9par\u00e9es par des virgules). A noter que pandas peut \u00e9galement charger des tableaux depuis des bases de donn\u00e9es SQL ou fichiers Excel (non abord\u00e9 ici).\n",
                "\n",
                "### 1.2 Pr\u00e9sentation et r\u00e9cup\u00e9ration des donn\u00e9es\n",
                "Les donn\u00e9es que nous allons manipuler dans ce TD est un ensemble de fichiers csv (ou plus pr\u00e9cis\u00e9ment \u201ctsv\u201d car le s\u00e9parateur est le caract\u00e8re \u201ctab\u201d et non pas une virgule) mis \u00e0 disposition gratuitement par IMDB.com [sur cette page](https://datasets.imdbws.com/). La description de chaque fichier est disponible [ici](https://developer.imdb.com/non-commercial-datasets/).\n",
                "\n",
                "Cr\u00e9ez un dossier IMDB. t\u00e9l\u00e9chargez (ou copiez) les fichiers tsv compr\u00e9ss\u00e9s (avec l'extension gz) title.ratings, title.basics, title.principals et name.basics dans le dossier IMDB D\u00e9compressez-les dans ce dossier avec l'executable gzip : \n",
                "\n",
                "```\n",
                "ls *.gz |xargs -n1 gzip -dv\n",
                "```\n",
                "\n",
                "Une fois cela fait, en executant la cellule ci-dessous, vous devriez obtenir le r\u00e9sultat suivant (au nom d'utilisateur pr\u00e8s):\n",
                "```\n",
                "drwxr-xr-x 2 clement clement       4096 Oct  1 00:37 ./\n",
                "drwxr-xr-x 8 clement clement       4096 Sep 30 22:14 ../\n",
                "-rw-r--r-- 1 clement clement  906244603 Sep 30 22:14 name.basics.tsv\n",
                "-rw-r--r-- 1 clement clement 1033130568 Sep 30 22:15 title.basics.tsv\n",
                "-rw-r--r-- 1 clement clement 4235431938 Sep 30 22:15 title.principals.tsv\n",
                "-rw-r--r-- 1 clement clement   28201022 Sep 30 22:15 title.ratings.tsv\n",
                "\n",
                "```"
            ]
        },
        {
            "cell_type": "code",
            "execution_count": null,
            "metadata": {},
            "outputs": [],
            "source": [
                "%%bash\n",
                "# Executez cette cellule sans la modifier et v\u00e9rifiez que le r\u00e9sultat est correct\n",
                "ls -l IMDB/"
            ]
        },
        {
            "cell_type": "markdown",
            "metadata": {},
            "source": [
                "## 2 Chargement avec pandas\n",
                "### 2.1 Chargement d\u2019un csv simple (10 min)\n",
                "Commen\u00e7ons par charger un premier csv dans un DataFrame pandas gr\u00e2ce \u00e0 sa fonction read_csv."
            ]
        },
        {
            "cell_type": "code",
            "execution_count": null,
            "metadata": {},
            "outputs": [],
            "source": [
                "import pandas\n",
                "ratings = pandas.read_csv(\"IMDB/title.ratings.tsv\")"
            ]
        },
        {
            "cell_type": "markdown",
            "metadata": {},
            "source": [
                "Affichez un aper\u00e7u de ce DataFrame en \u00e9xecutant la cellule suivante :"
            ]
        },
        {
            "cell_type": "code",
            "execution_count": null,
            "metadata": {},
            "outputs": [],
            "source": [
                "ratings"
            ]
        },
        {
            "cell_type": "markdown",
            "metadata": {},
            "source": [
                "Vous constaterez que pandas n\u2019a pas interpr\u00e9t\u00e9 les tabs pr\u00e9sents dans le fichier comme des\n",
                "s\u00e9parateurs de colonne.\n",
                "\n",
                "**Q1)** En vous aidant de la documentation de la fonction read_csv, ajoutez l\u2019option ad\u00e9quate afin de\n",
                "charger correctement le csv et ainsi obtenir cet aper\u00e7u :\n",
                "```\n",
                "\ttconst\taverageRating\tnumVotes\n",
                "0\ttt0000001\t5.7\t2089\n",
                "1\ttt0000002\t5.6\t283\n",
                "2\ttt0000003\t6.5\t2096\n",
                "3\ttt0000004\t5.4\t183\n",
                "4\ttt0000005\t6.2\t2832\n",
                "...\t...\t...\t...\n",
                "1482925\ttt9916730\t7.0\t12\n",
                "1482926\ttt9916766\t7.1\t24\n",
                "1482927\ttt9916778\t7.2\t37\n",
                "1482928\ttt9916840\t7.2\t10\n",
                "1482929\ttt9916880\t8.6\t8\n",
                "1482930 rows \u00d7 3 columns\n",
                "```"
            ]
        },
        {
            "cell_type": "code",
            "execution_count": null,
            "metadata": {},
            "outputs": [],
            "source": [
                "# Solution Q1)\n",
                "# insert your code here\n"
            ]
        },
        {
            "cell_type": "markdown",
            "metadata": {},
            "source": [
                "Vous pouvez constater que pandas a automatiquement interpr\u00e9t\u00e9 le type de chaque colonne\n",
                "(float, int, \u2026) en affichant l\u2019attribut dtypes du DataFrame (par d\u00e9faut, pandas stock les chaines de\n",
                "caracteres dans un champs de type object) :"
            ]
        },
        {
            "cell_type": "code",
            "execution_count": null,
            "metadata": {},
            "outputs": [],
            "source": [
                "ratings.dtypes"
            ]
        },
        {
            "cell_type": "markdown",
            "metadata": {},
            "source": [
                "### 2.2 Chargement d\u2019un csv plus complexe\n",
                "Chargez maintenant le csv \u201ctitle.basics.tsv\u201d dans un DataFrame nomm\u00e9 basics, de la m\u00eame mani\u00e8re que pour \u201ctitle.ratings.tsv\u201d.\n",
                "\n",
                "NB : Pour les tr\u00e8s gros fichiers, il peut \u00eatre judicieux d'indiquer \u00e0 pandas de ne pas etre trop gourmand en RAM gr\u00e2ce \u00e0 l'option low_memory=True"
            ]
        },
        {
            "cell_type": "code",
            "execution_count": null,
            "metadata": {},
            "outputs": [],
            "source": [
                "basics = pandas.read_csv(\"IMDB/title.basics.tsv\", sep=\"\\t\", low_memory=True)\n",
                "basics"
            ]
        },
        {
            "cell_type": "markdown",
            "metadata": {},
            "source": [
                "Si vous affichez les types d\u00e9duits par pandas pour chaque colonne, vous constaterez qu'il n\u2019a pas r\u00e9ussi \u00e0 inf\u00e9rer le bon type des colonne isAdult (colonne 4) qui devrait etre reconnue comme bool\u00e9en (ou int),\n",
                "startYear, endYear et runtimeMinutes (normalement des int)."
            ]
        },
        {
            "cell_type": "code",
            "execution_count": null,
            "metadata": {},
            "outputs": [],
            "source": [
                "basics.dtypes"
            ]
        },
        {
            "cell_type": "markdown",
            "metadata": {},
            "source": [
                "La premi\u00e8re raison pour laquelle pandas interprete mal le contenu du fichier vient de la mani\u00e8re que IMDB utilise pour indiquer qu\u2019un champ n\u2019est pas\n",
                "renseign\u00e9. En effet, comme ils le sp\u00e9cifient sur [la page de pr\u00e9sentation des donn\u00e9es](https://developer.imdb.com/non-commercial-datasets) il utilisent la\n",
                "chaine de caract\u00e8re \u201c\\N\u201d, qui ne fait pas partie des symboles par d\u00e9faut que pandas interpr\u00e8te automatiquement en tant que champs vide (la liste par d\u00e9faut est renseign\u00e9e dans la documentation de l\u2019option na_values de la fonction read_csv).\n",
                "\n",
                "**Q2)** En utilisant l\u2019option na_values de read_csv, rechargez le csv basics. **Attention, comme le dataframe basics que vous avez charg\u00e9 \u00e0 la question pr\u00e9c\u00e9dente occupe beaucoup de m\u00e9moire vive, mieux vaut le supprimer avant d\u2019essayer de le recharger ! Pour cela, utilisez l\u2019instruction del.**"
            ]
        },
        {
            "cell_type": "code",
            "execution_count": null,
            "metadata": {},
            "outputs": [],
            "source": [
                "del basics"
            ]
        },
        {
            "cell_type": "code",
            "execution_count": null,
            "metadata": {},
            "outputs": [],
            "source": [
                "# Solution Q2)\n",
                "# insert your code here\n"
            ]
        },
        {
            "cell_type": "markdown",
            "metadata": {},
            "source": [
                "Remarquez l\u2019avertissement :\n",
                "\n",
                "```DtypeWarning: Columns (7) have mixed types. Specify dtype option on import or set low_memory=False.```\n",
                "\n",
                "pandas indique maintenant un probl\u00e8me \u00e0 la colonne 7.\n",
                "\n",
                "Si vous affichez le type inf\u00e9r\u00e9 par pandas pour chaque colonne, vous constaterez en effet qu\u2019il a r\u00e9ussi sauf pour la colonne 7 (runtimeMinutes) :"
            ]
        },
        {
            "cell_type": "code",
            "execution_count": null,
            "metadata": {},
            "outputs": [],
            "source": [
                "print(basics.dtypes)"
            ]
        },
        {
            "cell_type": "markdown",
            "metadata": {},
            "source": [
                "Pour comprendre quelles entr\u00e9es dans la base de donn\u00e9es posent probl\u00e8me \u00e0 pandas, on peut tenter de forcer pandas \u00e0 convertir la colonne runtimeMinutes (qui contient des \"Mixed types\") vers le type \"float\", en esperant qu'un message d'erreur nous donne plus de d\u00e9tails sur le probleme."
            ]
        },
        {
            "cell_type": "code",
            "execution_count": null,
            "metadata": {},
            "outputs": [],
            "source": [
                "basics.runtimeMinutes.astype(float)"
            ]
        },
        {
            "cell_type": "markdown",
            "metadata": {},
            "source": [
                "Vous devez avoir obtenu une erreur avec le message suivant : \n",
                "```\n",
                "ValueError: could not convert string to float: 'Reality-TV'\n",
                "```\n",
                "Interessons-nous donc davantage aux entr\u00e9es pour lesquelles la colonne runtimeMinutes vaut \"Reality-TV\""
            ]
        },
        {
            "cell_type": "code",
            "execution_count": null,
            "metadata": {},
            "outputs": [],
            "source": [
                "basics[basics.runtimeMinutes == \"Reality-TV\"]"
            ]
        },
        {
            "cell_type": "markdown",
            "metadata": {},
            "source": [
                "On constate que pandas parse ces lignes de maniere erronn\u00e9e d\u00e8s la colonne originalTitle ! Et en regardant bien la colonne primaryTitle, on constate que la valeur qui aurait du etre dans originalTitle semble avoir \u00e9t\u00e9 concaten\u00e9e \u00e0 tort dans la colonne primaryTitle.\n",
                "Pour essayer de comprendre pourquoi, on peut afficher la ligne brute du fichier tsv associ\u00e9e \u00e0 une de ces entr\u00e9es de la BDD. Pour cela, sur un systeme Unix (Linux ou Mac), on peut utiliser le programme \"grep\" :"
            ]
        },
        {
            "cell_type": "code",
            "execution_count": null,
            "metadata": {},
            "outputs": [],
            "source": [
                "%%bash\n",
                "grep -e tt10233364 IMDB/title.basics.tsv "
            ]
        },
        {
            "cell_type": "markdown",
            "metadata": {},
            "source": [
                "Un oeil averti verra alors immediatement le probl\u00e8me : les colonnes primaryTitle et originalTitle commencent toutes les eux par un guillement qui n'est pas referm\u00e9 ! \n",
                "Hors, pandas ignore tous les caracteres speciaux (y compris les caract\u00e8res servant de separateur de colonne !) compris entre deux guillements. Pour lui, le tab pr\u00e9sent \u00e0 la fin de la 1ere occurence de \"Deep Dish\" fait donc partie integrante de la colonne primaryTitle et n'est pas interpr\u00e9t\u00e9 comme un s\u00e9parateur de colonne !\n",
                "\n",
                "**Q3)** Pour rem\u00e9dier \u00e0 cela, recharger le csv en utilisant l\u2019option quoting=csv.QUOTE_NONE de la fonction read_csv, qui permet de ne donner aucun sens particulier au caract\u00e8re guillemet. Comme pour la pr\u00e9c\u00e9dente question, pensez \u00e0 bien d\u00e9truire le dataframe basics avant de le recharger pour \u00e9conomiser de l'espace en RAM."
            ]
        },
        {
            "cell_type": "code",
            "execution_count": null,
            "metadata": {},
            "outputs": [],
            "source": [
                "# Solution Q3)\n",
                "# insert your code here\n"
            ]
        },
        {
            "cell_type": "markdown",
            "metadata": {},
            "source": [
                "Vous pouvez maintenant constater que pandas a correctement interpr\u00e9t\u00e9 les types de chaque colonne : "
            ]
        },
        {
            "cell_type": "code",
            "execution_count": null,
            "metadata": {},
            "outputs": [],
            "source": [
                "basics.dtypes"
            ]
        },
        {
            "cell_type": "markdown",
            "metadata": {},
            "source": [
                "## 3 Acc\u00e8s aux \u00e9l\u00e9ments d\u2019un DataFrame\n",
                "### 3.1 df.loc[] , df.iloc[] , df[]\n",
                "Les DataFrame poss\u00e8dent deux dimensions. L\u2019attribut \u201cloc\u201d d\u2019un DataFrame permet d\u2019adresser la\n",
                "premi\u00e8re (les lignes) via un nom d\u2019index et la seconde (les colonnes) via un nom de colonne.\n",
                "Vous pouvez afficher la liste des index et des colonnes via les attributs \u201cindex\u201d et \u201ccolonne\u201d d\u2019un\n",
                "DataFrame :"
            ]
        },
        {
            "cell_type": "code",
            "execution_count": null,
            "metadata": {},
            "outputs": [],
            "source": [
                "ratings.index"
            ]
        },
        {
            "cell_type": "code",
            "execution_count": null,
            "metadata": {},
            "outputs": [],
            "source": [
                "ratings.columns"
            ]
        },
        {
            "cell_type": "code",
            "execution_count": null,
            "metadata": {},
            "outputs": [],
            "source": [
                "basics.loc[42, \"startYear\"]"
            ]
        },
        {
            "cell_type": "markdown",
            "metadata": {},
            "source": [
                "Il est possible d'acc\u00e9der \u00e0 plusieurs colonnes pour un index donn\u00e9, ou plusieurs index pour une\n",
                "colonne donn\u00e9, auquel cas pandas retournera une Series :"
            ]
        },
        {
            "cell_type": "code",
            "execution_count": null,
            "metadata": {},
            "outputs": [],
            "source": [
                "s = basics.loc[42, [\"originalTitle\", \"startYear\"]]\n",
                "print(s)\n",
                "print(f\"{type(s)=}\")"
            ]
        },
        {
            "cell_type": "code",
            "execution_count": null,
            "metadata": {},
            "outputs": [],
            "source": [
                "s = basics.loc[[42, 2023], \"originalTitle\"]\n",
                "print(s)\n",
                "print(f\"{type(s)=}\")"
            ]
        },
        {
            "cell_type": "markdown",
            "metadata": {},
            "source": [
                "Il est possible d\u2019extraire plusieurs index et colonnes \u00e0 la fois, auquel cas pandas retournera un\n",
                "DataFrame :"
            ]
        },
        {
            "cell_type": "code",
            "execution_count": null,
            "metadata": {},
            "outputs": [],
            "source": [
                "d = basics.loc[[42, 2023], [\"originalTitle\", \"startYear\"]]\n",
                "print(d)\n",
                "print(f\"{type(d)=}\")"
            ]
        },
        {
            "cell_type": "markdown",
            "metadata": {},
            "source": [
                "Il est \u00e9galement possible de faire les m\u00eames acc\u00e8s \u00e0 des \u00e9l\u00e9ments/lignes/colonnes/sous-DataFrame via les num\u00e9ros de lignes et colonnes gr\u00e2ce \u00e0 l\u2019attribut iloc :"
            ]
        },
        {
            "cell_type": "code",
            "execution_count": null,
            "metadata": {},
            "outputs": [],
            "source": [
                "basics.iloc[[42, 2023], [2,7]]"
            ]
        },
        {
            "cell_type": "markdown",
            "metadata": {},
            "source": [
                "Vous pouvez utiliser le symbole \u201c:\u201d sur une des dimensions de l\u2019attribut loc ou iloc afin de s\u00e9lectionner tous les champs d\u2019une dimension et ainsi r\u00e9cup\u00e9rer une ligne ou colonne enti\u00e8re."
            ]
        },
        {
            "cell_type": "code",
            "execution_count": null,
            "metadata": {},
            "outputs": [],
            "source": [
                "ratings.loc[:, \"numVotes\"]"
            ]
        },
        {
            "cell_type": "code",
            "execution_count": null,
            "metadata": {},
            "outputs": [],
            "source": [
                "basics.loc[5, :]"
            ]
        },
        {
            "cell_type": "markdown",
            "metadata": {},
            "source": [
                "Dans le cas des colonnes, il existe une possibilit\u00e9 suppl\u00e9mentaire : l'op\u00e9rateur [] ou \u201c.\u201d directement appliqu\u00e9 au DataFrame :"
            ]
        },
        {
            "cell_type": "code",
            "execution_count": null,
            "metadata": {},
            "outputs": [],
            "source": [
                "basics.startYear"
            ]
        },
        {
            "cell_type": "code",
            "execution_count": null,
            "metadata": {},
            "outputs": [],
            "source": [
                "basics[\"titleType\"]"
            ]
        },
        {
            "cell_type": "markdown",
            "metadata": {},
            "source": [
                "## 4 Op\u00e9rations sur les colonnes\n",
                "### 4.1 Op\u00e9rations arithm\u00e9tiques entre colonnes"
            ]
        },
        {
            "cell_type": "code",
            "execution_count": null,
            "metadata": {},
            "outputs": [],
            "source": [
                "ratings.numVotes * ratings.averageRating"
            ]
        },
        {
            "cell_type": "markdown",
            "metadata": {},
            "source": [
                "### 4.2 Statistiques"
            ]
        },
        {
            "cell_type": "code",
            "execution_count": null,
            "metadata": {},
            "outputs": [],
            "source": [
                "N = ratings.numVotes.sum()\n",
                "moy = ratings.averageRating.mean()\n",
                "std = ratings.averageRating.std()"
            ]
        },
        {
            "cell_type": "markdown",
            "metadata": {},
            "source": [
                "La m\u00e9thode describe permet d\u2019avoir rapidement des informations sur la distributions des valeurs dans une colonne de valeurs num\u00e9riques :"
            ]
        },
        {
            "cell_type": "code",
            "execution_count": null,
            "metadata": {},
            "outputs": [],
            "source": [
                "ratings.describe()"
            ]
        },
        {
            "cell_type": "markdown",
            "metadata": {},
            "source": [
                "### 4.3 Application de fonctions numpy"
            ]
        },
        {
            "cell_type": "code",
            "execution_count": null,
            "metadata": {},
            "outputs": [],
            "source": [
                "import numpy as np\n",
                "np.mod(basics.startYear, 10)"
            ]
        },
        {
            "cell_type": "markdown",
            "metadata": {},
            "source": [
                "### 4.4 Application de fonctions personnalis\u00e9es"
            ]
        },
        {
            "cell_type": "code",
            "execution_count": null,
            "metadata": {},
            "outputs": [],
            "source": [
                "basics.startYear.apply(lambda x: x/2 if x%2==0 else 2*x+1)"
            ]
        },
        {
            "cell_type": "markdown",
            "metadata": {},
            "source": [
                "## 5 Ajout d\u2019une colonne dans un DataFrame"
            ]
        },
        {
            "cell_type": "code",
            "execution_count": null,
            "metadata": {},
            "outputs": [],
            "source": [
                "basics[\"runtimeHours\"] = basics[\"runtimeMinutes\"] / 60\n",
                "basics[\"isOld\"] = basics[\"startYear\"] < 1992\n",
                "basics[[\"originalTitle\", \"runtimeMinutes\", \"runtimeHours\", \"startYear\", \"isOld\"]]"
            ]
        },
        {
            "cell_type": "markdown",
            "metadata": {},
            "source": [
                "## 6 Filtrage / Indexage logique"
            ]
        },
        {
            "cell_type": "markdown",
            "metadata": {},
            "source": [
                "Directement avec l'op\u00e9rateur DataFrame[] : "
            ]
        },
        {
            "cell_type": "code",
            "execution_count": null,
            "metadata": {},
            "outputs": [],
            "source": [
                "ratings[ratings.numVotes > 1e6]"
            ]
        },
        {
            "cell_type": "markdown",
            "metadata": {},
            "source": [
                "Ou bien avec l'op\u00e9rateur DataFrame.loc[] : "
            ]
        },
        {
            "cell_type": "code",
            "execution_count": null,
            "metadata": {},
            "outputs": [],
            "source": [
                "basics.loc[basics.startYear > 2020, \"runtimeMinutes\"]"
            ]
        },
        {
            "cell_type": "markdown",
            "metadata": {},
            "source": [
                "**Q4)** Extraire dans un DataFrame \u201cmovies\u201d les \u00e9l\u00e9ments de basics dont l\u2019attribut \u201ctitleType\u201d est \u201cmovie\u201d."
            ]
        },
        {
            "cell_type": "code",
            "execution_count": null,
            "metadata": {},
            "outputs": [],
            "source": [
                "# Solution Q4)\n",
                "# insert your code here\n"
            ]
        },
        {
            "cell_type": "markdown",
            "metadata": {},
            "source": [
                "## 7 Fusion de DataFrame\n",
                "Il est possible de croiser les informations de deux DataFrame diff\u00e9rents. Pour cela, pandas poss\u00e8de\n",
                "entre autres la fonction merge.\n",
                "\n",
                "**Q5)** Apr\u00e8s avoir \u00e9tudi\u00e9 la documentation de la fonction merge, cr\u00e9er le DataFrame \u201crated_movies\u201d\n",
                "qui regroupe les informations des DataFrames \u201cmovies\u201d et \u201cratings\u201d uniquement pour les films\n",
                "poss\u00e9dant une note sur IMDB.\n",
                "\n",
                "Les cinq premiers \u00e9l\u00e9ments de ce DataFrame doivent \u00eatre ceux-ci :\n",
                "``` \n",
                "   averageRating                   primaryTitle\n",
                "0            5.4                     Miss Jerry\n",
                "1            5.2  The Corbett-Fitzsimmons Fight\n",
                "2            4.4                       Bohemios\n",
                "3            6.0    The Story of the Kelly Gang\n",
                "4            5.7               The Prodigal Son\n",
                "5            4.3             Robbery Under Arms\n",
                "```"
            ]
        },
        {
            "cell_type": "code",
            "execution_count": null,
            "metadata": {},
            "outputs": [],
            "source": [
                "# Solution Q5)\n",
                "# insert your code here\n"
            ]
        },
        {
            "cell_type": "markdown",
            "metadata": {},
            "source": [
                "## 8 Regroupement de lignes\n",
                "Il est possible de regrouper les lignes d\u2019un DataFrame qui poss\u00e8de la m\u00eame valeur pour une\n",
                "colonne donn\u00e9e, et d\u2019ensuite extraire des statistiques sur ces groupes."
            ]
        },
        {
            "cell_type": "code",
            "execution_count": null,
            "metadata": {},
            "outputs": [],
            "source": [
                "movies.groupby('startYear').tconst.count()"
            ]
        },
        {
            "cell_type": "code",
            "execution_count": null,
            "metadata": {},
            "outputs": [],
            "source": [
                "movies.groupby('startYear').runtimeMinutes.mean()"
            ]
        },
        {
            "cell_type": "markdown",
            "metadata": {},
            "source": [
                "## 9 Trac\u00e9 de graphes\n",
                "### 9.1 Histogramme\n",
                "La m\u00e9thode hist des DataFrame permet de tracer l\u2019histogramme de toutes les colonnes \u00e0 valeurs num\u00e9riques du DataFrame."
            ]
        },
        {
            "cell_type": "code",
            "execution_count": null,
            "metadata": {},
            "outputs": [],
            "source": [
                "ratings.hist(bins=100)"
            ]
        },
        {
            "cell_type": "markdown",
            "metadata": {},
            "source": [
                "On peut \u00e9galement l\u2019appeler sur une colonne en particulier :"
            ]
        },
        {
            "cell_type": "code",
            "execution_count": null,
            "metadata": {},
            "outputs": [],
            "source": [
                "np.log10(ratings.numVotes).hist(bins=100)"
            ]
        },
        {
            "cell_type": "markdown",
            "metadata": {},
            "source": [
                "### 9.2 Courbes\n",
                "On peut simplement tracer les valeurs d\u2019une colonne en fonction d\u2019une autre colonne gr\u00e2ce \u00e0 la m\u00e9thode \u201cplot\u201d de DataFrame. L\u2019option \u201ckind\u201d permet de choisir le type de graphe."
            ]
        },
        {
            "cell_type": "code",
            "execution_count": null,
            "metadata": {},
            "outputs": [],
            "source": [
                "rated_movies.plot(\"startYear\", \"numVotes\", kind=\"scatter\")"
            ]
        },
        {
            "cell_type": "markdown",
            "metadata": {},
            "source": [
                "### 9.3 Pie Charts"
            ]
        },
        {
            "cell_type": "code",
            "execution_count": null,
            "metadata": {},
            "outputs": [],
            "source": [
                "basics.groupby(\"titleType\").titleType.count().plot.pie()"
            ]
        },
        {
            "cell_type": "markdown",
            "metadata": {},
            "source": [
                "## 10 Filtrages de csv volumineux\n",
                "\n",
                "Comme vous pouvez le constater, certains fichiers sont tr\u00e8s gros : jusqu\u2019\u00e0 2.7 Go pour la table \u201ctitle.principals.tsv\u201d listant les acteurs principaux de l\u2019ensemble des titres de IMDB. Cela peut rendre long, voire impossible en fonction de la quantit\u00e9 de m\u00e9moire vive que poss\u00e8de votre ordinateur, le chargement de ces tables en RAM.\n",
                "Pour la suite du TD, afin de ne pas avoir \u00e0 manipuler l'int\u00e9gralit\u00e9 de la table title.principal.tsv, nous allons la filtrer pour ne garder que les lignes associ\u00e9es \u00e0 un \u00e9l\u00e9ment de type \u201cmovie\u201d. Nous \u00e9crirons le r\u00e9sultat de ce filtrage dans un fichier tsv plus petit \u201cmovie.principals.tsv\u201d afin de pouvoir le recharger facilement ult\u00e9rieurement.\n",
                "\n",
                "### 10.1 Filtrage par morceaux\n",
                "Avec l\u2019option \u201cchunksize\u201d de la fonction \u201cread_csv\u201d, il est possible de charger un gros fichier csv petit bout par petit bout. Ainsi on peut filtrer chaque petit bout en stockant le r\u00e9sultat de ce filtrage partiel dans une liste temporaire avant de finalement concatener tous ces morceaux filtr\u00e9s en un unique DataFrame :"
            ]
        },
        {
            "cell_type": "code",
            "execution_count": null,
            "metadata": {},
            "outputs": [],
            "source": [
                "from tqdm import tqdm\n",
                "subchunks = []\n",
                "movies_ids = movies.tconst.values\n",
                "with pandas.read_csv(\"IMDB/title.principals.tsv\", sep=\"\\t\", na_values=[\"\\\\N\"], quoting = csv.QUOTE_NONE, chunksize=100000) as reader:\n",
                "    for k, chunk in tqdm(enumerate(reader)):\n",
                "        subchunk = chunk[chunk.tconst.isin(movies_ids)]\n",
                "        subchunks.append(subchunk)\n",
                "movie_principals_list = pandas.concat(subchunks)"
            ]
        },
        {
            "cell_type": "markdown",
            "metadata": {},
            "source": [
                "### 10.2 Ecriture de la table dans un fichier\n",
                "La m\u00e9thode \u201cto_csv\u201d des DataFrame permet de simplement \u00e9crire un fichier csv :"
            ]
        },
        {
            "cell_type": "code",
            "execution_count": null,
            "metadata": {},
            "outputs": [],
            "source": [
                "movie_principals_list.to_csv(\"IMDB/movie.principals.tsv\", index=False, sep=\"\\t\", na_rep=\"\\\\N\", quoting=csv.QUOTE_NONE)"
            ]
        },
        {
            "cell_type": "markdown",
            "metadata": {},
            "source": [
                "**Q6)** A partir des morceaux de code pr\u00e9c\u00e9dents, cr\u00e9er le DataFrame \u201cmovies_actor_list\u201d et le fichier \u201cmovie.actors.tsv\u201d, qui ne contiennent que les informations de \u201ctitle.principals.tsv\u201d concernant **les r\u00f4les d\u2019acteurs/actrices dans des films de cin\u00e9ma**."
            ]
        },
        {
            "cell_type": "code",
            "execution_count": null,
            "metadata": {},
            "outputs": [],
            "source": [
                "# Solution Q6) \n",
                "# insert your code here\n"
            ]
        },
        {
            "cell_type": "markdown",
            "metadata": {},
            "source": [
                "**Q7)** A partir du fichier \u201cname.basics.tsv\u201d, cr\u00e9er un DataFrame \u201cmovie_actors_basics\u201d, que vous \u00e9crirez dans un fichier \u201cmovie_actors.basics.tsv\u201d, ne contenant que les informations personnelles relatives aux acteurs/actrices ayant jou\u00e9 dans un film de cin\u00e9ma (c'est \u00e0 dire les acteurs/actrices apparaissant au moins une fois dans le dataframe movies_actor_list)"
            ]
        },
        {
            "cell_type": "code",
            "execution_count": null,
            "metadata": {},
            "outputs": [],
            "source": [
                "# Solution Q7)\n",
                "# insert your code here\n"
            ]
        },
        {
            "cell_type": "markdown",
            "metadata": {},
            "source": [
                "# 11 Exercices\n",
                "\n",
                "1) Combien de films ont obtenu la note de 10/10 ?\n",
                "2) Afficher l\u2019histogramme des notes des films sortis ces 10 derni\u00e8res ann\u00e9es.\n",
                "3) Donner les noms, les nombres de votes et les notes moyennes des 5 films les mieux not\u00e9s et ayant plus de 50000 notes.\n",
                "4) Donner les noms, notes moyennes, nombres de votes et dates de sortie des 5 com\u00e9dies avec plus de 50000 notes les mieux not\u00e9es de ces 20 derni\u00e8res ann\u00e9es.\n",
                "5) Donner la moyenne et \u00e9cart-type des notes par genre de film (indice : vous pourrez regarder la m\u00e9thode Series.str.split et DataFrame.explode).\n",
                "6) Tracer l'\u00e9volution de la note moyenne des films d\u2019action en fonction de l\u2019ann\u00e9e de sortie.\n",
                "7) Donner la liste des 5 acteurs vivants ayant jou\u00e9 dans le plus de films.\n",
                "8) Donner la liste des 5 acteurs ayant jou\u00e9 dans au moins 5 films, avec la filmographie la mieux not\u00e9e.\n",
                "9) Tracer le graphe \u201cNombre de films jou\u00e9s\u201d versus \u201cNote moyenne de la filmographie\u201d."
            ]
        },
        {
            "cell_type": "code",
            "execution_count": null,
            "metadata": {},
            "outputs": [],
            "source": [
                "# Solution exo 1)\n",
                "# insert your code here\n"
            ]
        },
        {
            "cell_type": "code",
            "execution_count": null,
            "metadata": {},
            "outputs": [],
            "source": [
                "# Solution exo 2)\n",
                "# insert your code here\n"
            ]
        },
        {
            "cell_type": "code",
            "execution_count": null,
            "metadata": {},
            "outputs": [],
            "source": [
                "# Solution exo 3)\n",
                "# insert your code here\n"
            ]
        },
        {
            "cell_type": "code",
            "execution_count": null,
            "metadata": {},
            "outputs": [],
            "source": [
                "# Solution exo 4)\n",
                "# insert your code here\n"
            ]
        },
        {
            "cell_type": "code",
            "execution_count": null,
            "metadata": {},
            "outputs": [],
            "source": [
                "# Solution exo 5)\n",
                "# insert your code here\n"
            ]
        },
        {
            "cell_type": "code",
            "execution_count": null,
            "metadata": {},
            "outputs": [],
            "source": [
                "# Solution exo 6)\n",
                "# insert your code here\n"
            ]
        },
        {
            "cell_type": "code",
            "execution_count": null,
            "metadata": {},
            "outputs": [],
            "source": [
                "# Solution exo 7)\n",
                "# insert your code here\n"
            ]
        },
        {
            "cell_type": "code",
            "execution_count": null,
            "metadata": {},
            "outputs": [],
            "source": [
                "# Solution exo 8)\n",
                "# insert your code here\n"
            ]
        },
        {
            "cell_type": "code",
            "execution_count": null,
            "metadata": {},
            "outputs": [],
            "source": [
                "# Solution exo 9)\n",
                "# insert your code here\n"
            ]
        },
        {
            "cell_type": "markdown",
            "metadata": {},
            "source": [
                "# 12 Exercice final\n",
                "\n",
                "Cr\u00e9ez un utilitaire en ligne de commande qui, lorsqu'execut\u00e9 depuis un terminal, affiche un message d'accueil et demande \u00e0 l'utilisateur de choisir parmi une des fonctionnalit\u00e9s suivantes : \n",
                "    a) affichage d'un profil d'acteur/actrice\n",
                "    b) affichage du top 5 des films par genre et par ann\u00e9e\n",
                "\n",
                "Dans le cas ou l'utilisateur a fait le choix a), l'utilitaire doit demander \u00e0 l'utilisateur de renseigner un nom d'acteur. \n",
                "* Si le nom renseign\u00e9 existe bien dans la base, l'utilitaire doit afficher :\n",
                "  * les infos sur l'acteur/actrice (date de naissance, age, ...)\n",
                "  * la note moyenne de sa filmographie\n",
                "  * un histogramme montrant le nombre de films dans lequel la personne a jou\u00e9 en fonction des ann\u00e9es\n",
                "* Dans le cas ou le nom ne correspond \u00e0 aucun acteur/Actrice, l'utilitaire propose les 5 noms les plus proches.\n",
                "* Apres avoir afficher tout cela, l'utilitaire revient \u00e0 l'accueil.\n",
                "\n",
                "\n",
                "Dans le cas ou l'utilisateur a fait le choix b), l'utilitaire doit afficher la liste de tous les genres disponibles dans la base, et demander \u00e0 l'utilisateur d'en choisir un parmi eux. Puis l'utilitaire demande \u00e0 l'utilisateur de renseigner une ann\u00e9e. \n",
                "* Dans le cas ou il existe un ou plusieurs films du genre selectionn\u00e9 pour l'ann\u00e9e renseign\u00e9e, l'utilitaire affiche les (au plus) 5 films les mieux not\u00e9s de ce genre pour cette ann\u00e9e.\n",
                "* Dans le cas ou aucun film de ce genre n'a \u00e9t\u00e9 r\u00e9alis\u00e9 cette ann\u00e9e l\u00e0, l'utilitaire demande \u00e0 l'utilisateur de renseigner une autre ann\u00e9e.\n",
                "* Apres avoir afficher, l'utilitaire revient \u00e0 l'accueil."
            ]
        }
    ],
    "metadata": {
        "kernelspec": {
            "display_name": "PAI",
            "language": "python",
            "name": "python3"
        },
        "language_info": {
            "codemirror_mode": {
                "name": "ipython",
                "version": 3
            },
            "file_extension": ".py",
            "mimetype": "text/x-python",
            "name": "python",
            "nbconvert_exporter": "python",
            "pygments_lexer": "ipython3",
            "version": "3.13.5"
        }
    },
    "nbformat": 4,
    "nbformat_minor": 4
}