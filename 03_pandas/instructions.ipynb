{
    "cells": [
        {
            "cell_type": "markdown",
            "metadata": {},
            "source": [
                "# Analyse de tableaux de données avec pandas"
            ]
        },
        {
            "cell_type": "markdown",
            "metadata": {},
            "source": [
                "## 1 Introduction\n",
                "Vous aurez besoin d’au moins 5 Go de RAM disponible pour la suite de ce TD. Si vous comptiez utiliser votre ordinateur personnel mais que ce dernier ne dispose pas de 5 Go de RAM disponible, utilisez les ordinateurs de l'école.\n",
                "\n",
                "Le notebook contient à la fois des parties plutôt \"tutoriel\" : ces parties vous montrent les capacités de pandas, et vous demandent d'executer des cellules de code pré-remplies. Si l'énoncé vous fournit le résultat attendu, vérfiez simplement que le résultat que vous obtenez est correct.\n",
                "Le notebook contient également des questions ainsi qu'un exercice final dans lesquels c'est à vous de trouver et ajouter les lignes de code répondant au problème !\n",
                "\n",
                "\n",
                "### 1.1 Objectif\n",
                "L’objectif de cette séance est de se familiariser avec la manipulation et le traitement de (potentiellement gros) tableaux de données en python, pour en ressortir une information précise. Par tableau on entend “une liste d'éléments (les lignes du tableau) possédant tous les mêmes attributs (les colonnes du tableau)”, à l’instar de ce que l’on peut trouver dans un classeur Excel ou une table de base de données SQL.\n",
                "Pour ce TD, nous utiliserons le package python pandas en chargeant des tableaux depuis des fichiers csv (Comma Separated Values: fichier texte contenant des valeurs séparées par des virgules). A noter que pandas peut également charger des tableaux depuis des bases de données SQL ou fichiers Excel (non abordé ici).\n",
                "\n",
                "### 1.2 Présentation et récupération des données\n",
                "Les données que nous allons manipuler dans ce TD est un ensemble de fichiers csv (ou plus précisément “tsv” car le séparateur est le caractère “tab” et non pas une virgule) mis à disposition gratuitement par IMDB.com [sur cette page](https://datasets.imdbws.com/). La description de chaque fichier est disponible [ici](https://developer.imdb.com/non-commercial-datasets/).\n",
                "\n",
                "Créez un dossier IMDB. Récupérer les archives title.ratings, title.basics, title.principals et name.basics. Décompressez-les dans le dossier IMDB. En executant la cellule ci-dessous, vous devriez obtenir le résultat suivant (au nom d'utilisateur près):\n",
                "```\n",
                "total 7014988\n",
                "-rw-r--r-- 1 clement clement  851596558 oct.   6  2024 name.basics.tsv\n",
                "-rw-rw-r-- 1 clement clement  273441728 oct.   6  2024 name.basics.tsv.gz\n",
                "-rw-r--r-- 1 clement clement  958497321 oct.   6  2024 title.basics.tsv\n",
                "-rw-rw-r-- 1 clement clement  195430244 oct.   6  2024 title.basics.tsv.gz\n",
                "-rw-r--r-- 1 clement clement 3928435978 oct.   6  2024 title.principals.tsv\n",
                "-rw-rw-r-- 1 clement clement  683736883 oct.   6  2024 title.principals.tsv.gz\n",
                "-rw-r--r-- 1 clement clement   25766771 oct.   6  2024 title.ratings.tsv\n",
                "-rw-rw-r-- 1 clement clement    7455933 oct.   6  2024 title.ratings.tsv.gz\n",
                "```"
            ]
        },
        {
            "cell_type": "code",
            "execution_count": 24,
            "metadata": {},
            "outputs": [],
            "source": [
                "%%bash\n",
                "# Executez cette cellule sans la modifier et vérifiez que le résultat est correct\n",
                "ls -l IMDB/"
            ]
        },
        {
            "cell_type": "markdown",
            "metadata": {},
            "source": [
                "## 2 Chargement avec pandas\n",
                "### 2.1 Chargement d’un csv simple (10 min)\n",
                "Commençons par charger un premier csv dans un DataFrame pandas grâce à sa fonction read_csv."
            ]
        },
        {
            "cell_type": "code",
            "execution_count": 2,
            "metadata": {},
            "outputs": [],
            "source": [
                "import pandas\n",
                "ratings = pandas.read_csv(\"IMDB/title.ratings.tsv\")"
            ]
        },
        {
            "cell_type": "markdown",
            "metadata": {},
            "source": [
                "Affichez un aperçu de ce DataFrame en éxecutant la cellule suivante :"
            ]
        },
        {
            "cell_type": "code",
            "execution_count": null,
            "metadata": {},
            "outputs": [],
            "source": [
                "ratings"
            ]
        },
        {
            "cell_type": "markdown",
            "metadata": {},
            "source": [
                "Vous constaterez que pandas n’a pas interprété les tabs présents dans le fichier comme des\n",
                "séparateurs de colonne.\n",
                "\n",
                "**Q1)** En vous aidant de la documentation de la fonction read_csv, ajoutez l’option adéquate afin de\n",
                "charger correctement le csv et ainsi obtenir cet aperçu :\n",
                "```\n",
                "\ttconst\taverageRating\tnumVotes\n",
                "0\ttt0000001\t5.7\t2089\n",
                "1\ttt0000002\t5.6\t283\n",
                "2\ttt0000003\t6.5\t2096\n",
                "3\ttt0000004\t5.4\t183\n",
                "4\ttt0000005\t6.2\t2832\n",
                "...\t...\t...\t...\n",
                "1482925\ttt9916730\t7.0\t12\n",
                "1482926\ttt9916766\t7.1\t24\n",
                "1482927\ttt9916778\t7.2\t37\n",
                "1482928\ttt9916840\t7.2\t10\n",
                "1482929\ttt9916880\t8.6\t8\n",
                "1482930 rows × 3 columns\n",
                "```"
            ]
        },
        {
            "cell_type": "code",
            "execution_count": 4,
            "metadata": {},
            "outputs": [],
            "source": [
                "# Solution Q1)\n",
                "# insert your code here\n"
            ]
        },
        {
            "cell_type": "markdown",
            "metadata": {},
            "source": [
                "Vous pouvez constater que pandas a automatiquement interprété le type de chaque colonne\n",
                "(float, int, …) en affichant l’attribut dtypes du DataFrame (par défaut, pandas stock les chaines de\n",
                "caracteres dans un champs de type object) :"
            ]
        },
        {
            "cell_type": "code",
            "execution_count": 5,
            "metadata": {},
            "outputs": [],
            "source": [
                "ratings.dtypes"
            ]
        },
        {
            "cell_type": "markdown",
            "metadata": {},
            "source": [
                "### 2.2 Chargement d’un csv plus complexe\n",
                "Chargez maintenant le csv “title.basics.tsv” dans un DataFrame nommé basics, de la même\n",
                "manière que pour “title.ratings.tsv”."
            ]
        },
        {
            "cell_type": "code",
            "execution_count": null,
            "metadata": {},
            "outputs": [],
            "source": [
                "basics = pandas.read_csv(\"IMDB/title.basics.tsv\", sep=\"\\t\")\n",
                "basics"
            ]
        },
        {
            "cell_type": "markdown",
            "metadata": {},
            "source": [
                "Lors du chargement, pandas émet l’avertissement suivant :\n",
                "\n",
                "```DtypeWarning: Columns (4) have mixed types. Specify dtype option on import or set low_memory=False.```\n",
                "\n",
                "Le message d'erreur peut ici être un peu tromeur : si pandas a identifié qu'une colonne contenait des valeurs de différents types (ce qu'il appelle \"mixed types\") ce n'est pas a cause d'une mauvaise valeur pour l'argument optionnel \"low_memory\", mais parce que le fichier est mal formatté ou que pandas interprete mal certains caracteres contenu dans le fichier.\n",
                "\n",
                "Lorsque pandas determine qu'une colonne contient des valeurs de differents types (int, float, string, ...) alors il associe le type \"object\" a cette colonne.\n",
                "\n",
                "Si vous affichez les types déduits par pandas pour chaque colonne, vous constaterez qu’en effet,\n",
                "pandas n’a pas réussi à inférer le bon type des colonne isAdult (colonne 4, normalement booléen),\n",
                "startYear, endYear et runtimeMinutes (normalement des int)."
            ]
        },
        {
            "cell_type": "code",
            "execution_count": 6,
            "metadata": {},
            "outputs": [],
            "source": [
                "basics.dtypes"
            ]
        },
        {
            "cell_type": "markdown",
            "metadata": {},
            "source": [
                "La première raison pour laquelle pandas interprete mal le contenu du fichier vient de la manière que IMDB utilise pour indiquer qu’un champ n’est pas\n",
                "renseigné. En effet, comme ils le spécifient sur [la page de présentation des données](https://developer.imdb.com/non-commercial-datasets) il utilisent la\n",
                "chaine de caractère “\\N”, qui ne fait pas partie des symboles par défaut que pandas interprète automatiquement en tant que champs vide (la liste par défaut est renseignée dans la documentation de l’option na_values de la fonction read_csv).\n",
                "\n",
                "**Q2)** En utilisant l’option na_values de read_csv, rechargez le csv basics. **Attention, comme le dataframe basics que vous avez chargé à la question précédente occupe beaucoup de mémoire vive, mieux vaut le supprimer avant d’essayer de le recharger ! Pour cela, utilisez l’instruction del.**"
            ]
        },
        {
            "cell_type": "code",
            "execution_count": null,
            "metadata": {},
            "outputs": [],
            "source": [
                "# Solution Q2)\n",
                "# insert your code here\n"
            ]
        },
        {
            "cell_type": "markdown",
            "metadata": {},
            "source": [
                "L’avertissement doit maintenant être :\n",
                "\n",
                "```DtypeWarning: Columns (7) have mixed types. Specify dtype option on import or set low_memory=False.```\n",
                "\n",
                "Remarquez que le problème a maintenant lieu à la colonne 7 et non plus 4.\n",
                "Si vous affichez le type inféré par pandas pour chaque colonne, vous constaterez en effet qu’il a\n",
                "réussi sauf pour la colonne 7 (runtimeMinutes) :"
            ]
        },
        {
            "cell_type": "code",
            "execution_count": null,
            "metadata": {},
            "outputs": [],
            "source": [
                "print(basics.dtypes)"
            ]
        },
        {
            "cell_type": "markdown",
            "metadata": {},
            "source": [
                "Pour comprendre quelles entrées dans la base de données posent problème à pandas, on peut tenter de forcer pandas à convertir la colonne runtimeMinutes (qui contient des \"Mixed types\") vers le type \"float\", en esperant qu'un message d'erreur nous donne plus de détails sur le probleme."
            ]
        },
        {
            "cell_type": "code",
            "execution_count": null,
            "metadata": {},
            "outputs": [],
            "source": [
                "basics.runtimeMinutes.astype(float)"
            ]
        },
        {
            "cell_type": "markdown",
            "metadata": {},
            "source": [
                "Vous devez avoir obtenu une erreur avec le message suivant : \n",
                "```\n",
                "ValueError: could not convert string to float: 'Reality-TV'\n",
                "```\n",
                "Interessons-nous donc davantage aux entrées pour lesquelles la colonne runtimeMinutes vaut \"Reality-TV\""
            ]
        },
        {
            "cell_type": "code",
            "execution_count": null,
            "metadata": {},
            "outputs": [],
            "source": [
                "basics[basics.runtimeMinutes == \"Reality-TV\"]"
            ]
        },
        {
            "cell_type": "markdown",
            "metadata": {},
            "source": [
                "On constate que pandas parse ces lignes de maniere erronnée dès la colonne originalTitle ! Et en regardant bien la colonne primaryTitle, on constate que la valeur qui aurait du etre dans originalTitle semble avoir été concatenée à tort dans la colonne primaryTitle.\n",
                "Pour essayer de comprendre pourquoi, on peut afficher la ligne brute du fichier tsv associée à une de ces entrées de la BDD. Pour cela, sur un systeme Unix (Linux ou Mac), on peut utiliser le programme \"grep\" :"
            ]
        },
        {
            "cell_type": "code",
            "execution_count": 20,
            "metadata": {},
            "outputs": [],
            "source": [
                "%%bash\n",
                "grep -e tt10233364 IMDB/title.basics.tsv "
            ]
        },
        {
            "cell_type": "markdown",
            "metadata": {},
            "source": [
                "Un oeil averti verra alors immediatement le problème : les colonnes primaryTitle et originalTitle commencent toutes les eux par un guillement qui n'est pas refermé ! \n",
                "Hors, pandas ignore tous les caracteres speciaux (y compris les caractères servant de separateur de colonne !) compris entre deux guillements. Pour lui, le tab présent à la fin de la 1ere occurence de \"Deep Dish\" fait donc partie integrante de la colonne primaryTitle et n'est pas interprété comme un séparateur de colonne !\n",
                "\n",
                "**Q3)** Pour remédier à cela, recharger le csv en utilisant l’option quoting=csv.QUOTE_NONE de la fonction read_csv, qui permet de ne donner aucun sens particulier au caractère guillemet. Comme pour la précédente question, pensez à bien détruire le dataframe basics avant de le recharger pour économiser de l'espace en RAM."
            ]
        },
        {
            "cell_type": "code",
            "execution_count": null,
            "metadata": {},
            "outputs": [],
            "source": [
                "# Solution Q3)\n",
                "# insert your code here\n"
            ]
        },
        {
            "cell_type": "markdown",
            "metadata": {},
            "source": [
                "Vous pouvez maintenant constater que pandas a correctement interprété les types de chaque colonne : "
            ]
        },
        {
            "cell_type": "code",
            "execution_count": 13,
            "metadata": {},
            "outputs": [],
            "source": [
                "\n",
                "basics.dtypes"
            ]
        },
        {
            "cell_type": "markdown",
            "metadata": {},
            "source": [
                "## 3 Accès aux éléments d’un DataFrame\n",
                "### 3.1 df.loc[] , df.iloc[] , df[]\n",
                "Les DataFrame possèdent deux dimensions. L’attribut “loc” d’un DataFrame permet d’adresser la\n",
                "première (les lignes) via un nom d’index et la seconde (les colonnes) via un nom de colonne.\n",
                "Vous pouvez afficher la liste des index et des colonnes via les attributs “index” et “colonne” d’un\n",
                "DataFrame :"
            ]
        },
        {
            "cell_type": "code",
            "execution_count": 14,
            "metadata": {},
            "outputs": [],
            "source": [
                "ratings.index"
            ]
        },
        {
            "cell_type": "code",
            "execution_count": 15,
            "metadata": {},
            "outputs": [],
            "source": [
                "ratings.columns"
            ]
        },
        {
            "cell_type": "code",
            "execution_count": 16,
            "metadata": {},
            "outputs": [],
            "source": [
                "basics.loc[42, \"startYear\"]"
            ]
        },
        {
            "cell_type": "markdown",
            "metadata": {},
            "source": [
                "Il est possible d'accéder à plusieurs colonnes pour un index donné, ou plusieurs index pour une\n",
                "colonne donné, auquel cas pandas retournera une Series :"
            ]
        },
        {
            "cell_type": "code",
            "execution_count": 31,
            "metadata": {},
            "outputs": [],
            "source": [
                "s = basics.loc[42, [\"originalTitle\", \"startYear\"]]\n",
                "print(s)\n",
                "print(f\"{type(s)=}\")"
            ]
        },
        {
            "cell_type": "code",
            "execution_count": 32,
            "metadata": {},
            "outputs": [],
            "source": [
                "s = basics.loc[[42, 2023], \"originalTitle\"]\n",
                "print(s)\n",
                "print(f\"{type(s)=}\")"
            ]
        },
        {
            "cell_type": "markdown",
            "metadata": {},
            "source": [
                "Il est possible d’extraire plusieurs index et colonnes à la fois, auquel cas pandas retournera un\n",
                "DataFrame :"
            ]
        },
        {
            "cell_type": "code",
            "execution_count": 33,
            "metadata": {},
            "outputs": [],
            "source": [
                "d = basics.loc[[42, 2023], [\"originalTitle\", \"startYear\"]]\n",
                "print(d)\n",
                "print(f\"{type(d)=}\")"
            ]
        },
        {
            "cell_type": "markdown",
            "metadata": {},
            "source": [
                "Il est également possible de faire les mêmes accès à des éléments/lignes/colonnes/sous-DataFrame via les numéros de lignes et colonnes grâce à l’attribut iloc :"
            ]
        },
        {
            "cell_type": "code",
            "execution_count": 38,
            "metadata": {},
            "outputs": [],
            "source": [
                "basics.iloc[[42, 2023], [2,7]]"
            ]
        },
        {
            "cell_type": "markdown",
            "metadata": {},
            "source": [
                "Vous pouvez utiliser le symbole “:” sur une des dimensions de l’attribut loc ou iloc afin de sélectionner tous les champs d’une dimension et ainsi récupérer une ligne ou colonne entière."
            ]
        },
        {
            "cell_type": "code",
            "execution_count": 39,
            "metadata": {},
            "outputs": [],
            "source": [
                "ratings.loc[:, \"numVotes\"]"
            ]
        },
        {
            "cell_type": "code",
            "execution_count": 41,
            "metadata": {},
            "outputs": [],
            "source": [
                "basics.loc[5, :]"
            ]
        },
        {
            "cell_type": "markdown",
            "metadata": {},
            "source": [
                "Dans le cas des colonnes, il existe une possibilité supplémentaire : l'opérateur [] ou “.” directement appliqué au DataFrame :"
            ]
        },
        {
            "cell_type": "code",
            "execution_count": 42,
            "metadata": {},
            "outputs": [],
            "source": [
                "basics.startYear"
            ]
        },
        {
            "cell_type": "code",
            "execution_count": 43,
            "metadata": {},
            "outputs": [],
            "source": [
                "basics[\"titleType\"]"
            ]
        },
        {
            "cell_type": "markdown",
            "metadata": {},
            "source": [
                "## 4 Opérations sur les colonnes\n",
                "### 4.1 Opérations arithmétiques entre colonnes"
            ]
        },
        {
            "cell_type": "code",
            "execution_count": 44,
            "metadata": {},
            "outputs": [],
            "source": [
                "ratings.numVotes * ratings.averageRating"
            ]
        },
        {
            "cell_type": "markdown",
            "metadata": {},
            "source": [
                "### 4.2 Statistiques"
            ]
        },
        {
            "cell_type": "code",
            "execution_count": 45,
            "metadata": {},
            "outputs": [],
            "source": [
                "N = ratings.numVotes.sum()\n",
                "moy = ratings.averageRating.mean()\n",
                "std = ratings.averageRating.std()"
            ]
        },
        {
            "cell_type": "markdown",
            "metadata": {},
            "source": [
                "La méthode describe permet d’avoir rapidement des informations sur la distributions des valeurs dans une colonne de valeurs numériques :"
            ]
        },
        {
            "cell_type": "code",
            "execution_count": 46,
            "metadata": {},
            "outputs": [],
            "source": [
                "ratings.describe()"
            ]
        },
        {
            "cell_type": "markdown",
            "metadata": {},
            "source": [
                "### 4.3 Application de fonctions numpy"
            ]
        },
        {
            "cell_type": "code",
            "execution_count": 48,
            "metadata": {},
            "outputs": [],
            "source": [
                "import numpy as np\n",
                "np.mod(basics.startYear, 10)"
            ]
        },
        {
            "cell_type": "markdown",
            "metadata": {},
            "source": [
                "### 4.4 Application de fonctions personnalisées"
            ]
        },
        {
            "cell_type": "code",
            "execution_count": 49,
            "metadata": {},
            "outputs": [],
            "source": [
                "basics.startYear.apply(lambda x: x/2 if x%2==0 else 2*x+1)"
            ]
        },
        {
            "cell_type": "markdown",
            "metadata": {},
            "source": [
                "## 5 Ajout d’une colonne dans un DataFrame"
            ]
        },
        {
            "cell_type": "code",
            "execution_count": 50,
            "metadata": {},
            "outputs": [],
            "source": [
                "basics[\"runtimeHours\"] = basics[\"runtimeMinutes\"] / 60\n",
                "basics[\"isOld\"] = basics[\"startYear\"] < 1992\n",
                "basics[[\"originalTitle\", \"runtimeMinutes\", \"runtimeHours\", \"startYear\", \"isOld\"]]"
            ]
        },
        {
            "cell_type": "markdown",
            "metadata": {},
            "source": [
                "## 6 Filtrage / Indexage logique"
            ]
        },
        {
            "cell_type": "markdown",
            "metadata": {},
            "source": [
                "Directement avec l'opérateur DataFrame[] : "
            ]
        },
        {
            "cell_type": "code",
            "execution_count": 51,
            "metadata": {},
            "outputs": [],
            "source": [
                "ratings[ratings.numVotes > 1e6]"
            ]
        },
        {
            "cell_type": "markdown",
            "metadata": {},
            "source": [
                "Ou bien avec l'opérateur DataFrame.loc[] : "
            ]
        },
        {
            "cell_type": "code",
            "execution_count": 52,
            "metadata": {},
            "outputs": [],
            "source": [
                "basics.loc[basics.startYear > 2020, \"runtimeMinutes\"]"
            ]
        },
        {
            "cell_type": "markdown",
            "metadata": {},
            "source": [
                "**Q4)** Extraire dans un DataFrame “movies” les éléments de basics dont l’attribut “titleType” est “movie”."
            ]
        },
        {
            "cell_type": "code",
            "execution_count": null,
            "metadata": {},
            "outputs": [],
            "source": [
                "# Solution Q4)\n",
                "# insert your code here\n"
            ]
        },
        {
            "cell_type": "markdown",
            "metadata": {},
            "source": [
                "## 7 Fusion de DataFrame\n",
                "Il est possible de croiser les informations de deux DataFrame différents. Pour cela, pandas possède\n",
                "entre autres la fonction merge.\n",
                "\n",
                "**Q5)** Après avoir étudié la documentation de la fonction merge, créer le DataFrame “rated_movies”\n",
                "qui regroupe les informations des DataFrames “movies” et “ratings” uniquement pour les films\n",
                "possédant une note sur IMDB.\n",
                "\n",
                "Les cinq premiers éléments de ce DataFrame doivent être ceux-ci :\n",
                "``` \n",
                "   averageRating                   primaryTitle\n",
                "0            5.4                     Miss Jerry\n",
                "1            5.2  The Corbett-Fitzsimmons Fight\n",
                "2            4.4                       Bohemios\n",
                "3            6.0    The Story of the Kelly Gang\n",
                "4            5.7               The Prodigal Son\n",
                "5            4.3             Robbery Under Arms\n",
                "```"
            ]
        },
        {
            "cell_type": "code",
            "execution_count": 55,
            "metadata": {},
            "outputs": [],
            "source": [
                "# Solution Q5)\n",
                "# insert your code here\n"
            ]
        },
        {
            "cell_type": "markdown",
            "metadata": {},
            "source": [
                "## 8 Regroupement de lignes\n",
                "Il est possible de regrouper les lignes d’un DataFrame qui possède la même valeur pour une\n",
                "colonne donnée, et d’ensuite extraire des statistiques sur ces groupes."
            ]
        },
        {
            "cell_type": "code",
            "execution_count": 56,
            "metadata": {},
            "outputs": [],
            "source": [
                "movies.groupby('startYear').tconst.count()"
            ]
        },
        {
            "cell_type": "code",
            "execution_count": 57,
            "metadata": {},
            "outputs": [],
            "source": [
                "movies.groupby('startYear').runtimeMinutes.mean()"
            ]
        },
        {
            "cell_type": "markdown",
            "metadata": {},
            "source": [
                "## 9 Tracé de graphes\n",
                "### 9.1 Histogramme\n",
                "La méthode hist des DataFrame permet de tracer l’histogramme de toutes les colonnes à valeurs numériques du DataFrame."
            ]
        },
        {
            "cell_type": "code",
            "execution_count": 62,
            "metadata": {},
            "outputs": [],
            "source": [
                "ratings.hist(bins=100)"
            ]
        },
        {
            "cell_type": "markdown",
            "metadata": {},
            "source": [
                "On peut également l’appeler sur une colonne en particulier :"
            ]
        },
        {
            "cell_type": "code",
            "execution_count": 63,
            "metadata": {},
            "outputs": [],
            "source": [
                "np.log10(ratings.numVotes).hist(bins=100)"
            ]
        },
        {
            "cell_type": "markdown",
            "metadata": {},
            "source": [
                "### 9.2 Courbes\n",
                "On peut simplement tracer les valeurs d’une colonne en fonction d’une autre colonne grâce à la méthode “plot” de DataFrame. L’option “kind” permet de choisir le type de graphe."
            ]
        },
        {
            "cell_type": "code",
            "execution_count": 64,
            "metadata": {},
            "outputs": [],
            "source": [
                "rated_movies.plot(\"startYear\", \"numVotes\", kind=\"scatter\")"
            ]
        },
        {
            "cell_type": "markdown",
            "metadata": {},
            "source": [
                "### 9.3 Pie Charts"
            ]
        },
        {
            "cell_type": "code",
            "execution_count": null,
            "metadata": {},
            "outputs": [],
            "source": [
                "basics.groupby(\"titleType\").titleType.count().plot.pie()"
            ]
        },
        {
            "cell_type": "markdown",
            "metadata": {},
            "source": [
                "## 10 Filtrages de csv volumineux\n",
                "\n",
                "Comme vous pouvez le constater, certains fichiers sont très gros : jusqu’à 2.7 Go pour la table “title.principals.tsv” listant les acteurs principaux de l’ensemble des titres de IMDB. Cela peut rendre long, voire impossible en fonction de la quantité de mémoire vive que possède votre ordinateur, le chargement de ces tables en RAM.\n",
                "Pour la suite du TD, afin de ne pas avoir à manipuler l'intégralité de la table title.principal.tsv, nous allons la filtrer pour ne garder que les lignes associées à un élément de type “movie”. Nous écrirons le résultat de ce filtrage dans un fichier tsv plus petit “movie.principals.tsv” afin de pouvoir le recharger facilement ultérieurement.\n",
                "\n",
                "### 10.1 Filtrage par morceaux\n",
                "Avec l’option “chunksize” de la fonction “read_csv”, il est possible de charger un gros fichier csv petit bout par petit bout. Ainsi on peut filtrer chaque petit bout en stockant le résultat de ce filtrage partiel dans une liste temporaire avant de finalement concatener tous ces morceaux filtrés en un unique DataFrame :"
            ]
        },
        {
            "cell_type": "code",
            "execution_count": null,
            "metadata": {},
            "outputs": [],
            "source": [
                "subchunks = []\n",
                "movies_ids = movies.tconst.values\n",
                "with pandas.read_csv(\"IMDB/title.principals.tsv\", sep=\"\\t\", na_values=[\"\\\\N\"], quoting = csv.QUOTE_NONE, chunksize=100000) as reader:\n",
                "    for k, chunk in enumerate(reader):\n",
                "        subchunk = chunk[chunk.tconst.isin(movies_ids)]\n",
                "        subchunks.append(subchunk)\n",
                "movies_actor_list = pandas.concat(subchunks)"
            ]
        },
        {
            "cell_type": "markdown",
            "metadata": {},
            "source": [
                "### 10.2 Ecriture de la table dans un fichier\n",
                "La méthode “to_csv” des DataFrame permet de simplement écrire un fichier csv :"
            ]
        },
        {
            "cell_type": "code",
            "execution_count": null,
            "metadata": {},
            "outputs": [],
            "source": [
                "movies_actor_list.to_csv(\"IMDB/movie.actors.tsv\", index=False, sep=\"\\t\", na_rep=\"\\\\N\", quoting=csv.QUOTE_NONE)"
            ]
        },
        {
            "cell_type": "markdown",
            "metadata": {},
            "source": [
                "**Q6)** A partir des morceaux de code précédents, créer le DataFrame “movies_actor_list” et le fichier “movie.actors.tsv”, qui ne contiennent que les informations de “title.principals.tsv” concernant **les rôles d’acteurs/actrices dans des films de cinéma**."
            ]
        },
        {
            "cell_type": "code",
            "execution_count": null,
            "metadata": {},
            "outputs": [],
            "source": [
                "# Solution Q6) \n",
                "# insert your code here\n"
            ]
        },
        {
            "cell_type": "markdown",
            "metadata": {},
            "source": [
                "**Q7)** A partir du fichier “name.basics.tsv”, créer un DataFrame “movie_actors_basics”, que vous écrirez dans un fichier “movies_actors.basics.tsv”, ne contenant que les informations personnelles relatives aux acteurs/actrices ayant joué dans un film de cinéma (c'est à dire les acteurs/actrices apparaissant au moins une fois dans le dataframe movies_actor_list)"
            ]
        },
        {
            "cell_type": "code",
            "execution_count": null,
            "metadata": {},
            "outputs": [],
            "source": [
                "# Solution Q7)\n",
                "# insert your code here\n"
            ]
        },
        {
            "cell_type": "markdown",
            "metadata": {},
            "source": [
                "# 11 Exercices\n",
                "\n",
                "1) Combien de films ont obtenu la note de 10/10 ?\n",
                "2) Afficher l’histogramme des notes des films sortis ces 10 dernières années.\n",
                "3) Donner les noms, les nombres de votes et les notes moyennes des 5 films les mieux notés et ayant plus de 50000 notes.\n",
                "4) Donner les noms, notes moyennes, nombres de votes et dates de sortie des 5 comédies avec plus de 50000 notes les mieux notées de ces 20 dernières années.\n",
                "5) Donner la moyenne et écart-type des notes par genre de film (indice : vous pourrez regarder la méthode Series.str.split et DataFrame.explode).\n",
                "6) Tracer l'évolution de la note moyenne des films d’action en fonction de l’année de sortie.\n",
                "7) Donner la liste des 5 acteurs vivants ayant joué dans le plus de films.\n",
                "8) Donner la liste des 5 acteurs ayant joué dans au moins 5 films, avec la filmographie la mieux notée.\n",
                "9) Tracer le graphe “Nombre de films joués” versus “Note moyenne de la filmographie”."
            ]
        },
        {
            "cell_type": "code",
            "execution_count": 14,
            "metadata": {},
            "outputs": [],
            "source": [
                "# Solution exo 1)\n",
                "# insert your code here\n"
            ]
        },
        {
            "cell_type": "code",
            "execution_count": null,
            "metadata": {},
            "outputs": [],
            "source": [
                "# Solution exo 2)\n",
                "# insert your code here\n"
            ]
        },
        {
            "cell_type": "code",
            "execution_count": 20,
            "metadata": {},
            "outputs": [],
            "source": [
                "# Solution exo 3)\n",
                "# insert your code here\n"
            ]
        },
        {
            "cell_type": "code",
            "execution_count": 21,
            "metadata": {},
            "outputs": [],
            "source": [
                "# Solution exo 4)\n",
                "# insert your code here\n"
            ]
        },
        {
            "cell_type": "code",
            "execution_count": null,
            "metadata": {},
            "outputs": [],
            "source": [
                "# Solution exo 5)\n",
                "# insert your code here\n"
            ]
        },
        {
            "cell_type": "code",
            "execution_count": null,
            "metadata": {},
            "outputs": [],
            "source": [
                "# Solution exo 6)\n",
                "# insert your code here\n"
            ]
        },
        {
            "cell_type": "code",
            "execution_count": null,
            "metadata": {},
            "outputs": [],
            "source": [
                "# Solution exo 7)\n",
                "# insert your code here\n"
            ]
        },
        {
            "cell_type": "code",
            "execution_count": null,
            "metadata": {},
            "outputs": [],
            "source": [
                "# Solution exo 8)\n",
                "# insert your code here\n"
            ]
        },
        {
            "cell_type": "code",
            "execution_count": null,
            "metadata": {},
            "outputs": [],
            "source": [
                "# Solution exo 9)\n",
                "# insert your code here\n"
            ]
        },
        {
            "cell_type": "markdown",
            "metadata": {},
            "source": [
                "# 12 Exercice final\n",
                "\n",
                "Créez un utilitaire en ligne de commande qui, lorsqu'executé depuis un terminal, affiche un message d'accueil et demande à l'utilisateur de choisir parmi une des fonctionnalités suivantes : \n",
                "    a) affichage d'un profil d'acteur/actrice\n",
                "    b) affichage du top 5 des films par genre et par année\n",
                "\n",
                "Dans le cas ou l'utilisateur a fait le choix a), l'utilitaire doit demander à l'utilisateur de renseigner un nom d'acteur. \n",
                "* Si le nom renseigné existe bien dans la base, l'utilitaire doit afficher :\n",
                "  * les infos sur l'acteur/actrice (date de naissance, age, ...)\n",
                "  * la note moyenne de sa filmographie\n",
                "  * un histogramme montrant l'evolution du nombre de films dans lequel la personne a joué en fonction des années\n",
                "* Dans le cas ou le nom ne correspond à aucun acteur/Actrice, l'utilitaire propose les 5 noms les plus proches.\n",
                "* Apres avoir afficher tout cela, l'utilitaire revient à l'accueil.\n",
                "\n",
                "\n",
                "Dans le cas ou l'utilisateur a fait le choix b), l'utilitaire doit afficher la liste de tous les genres disponibles dans la base, et demander à l'utilisateur d'en choisir un parmi eux. Puis l'utilitaire demande à l'utilisateur de renseigner une année. \n",
                "* Dans le cas ou il existe un ou plusieurs films du genre selectionné pour l'année renseignée, l'utilitaire affiche les (au plus) 5 films les mieux notés de ce genre pour cette année.\n",
                "* Dans le cas ou aucun film de ce genre n'a été réalisé cette année là, l'utilitaire demande à l'utilisateur de renseigner une autre année.\n",
                "* Apres avoir afficher , l'utilitaire revient à l'accueil."
            ]
        }
    ],
    "metadata": {
        "kernelspec": {
            "display_name": "supop_pai",
            "language": "python",
            "name": "python3"
        },
        "language_info": {
            "codemirror_mode": {
                "name": "ipython",
                "version": 3
            },
            "file_extension": ".py",
            "mimetype": "text/x-python",
            "name": "python",
            "nbconvert_exporter": "python",
            "pygments_lexer": "ipython3",
            "version": "3.13.3"
        }
    },
    "nbformat": 4,
    "nbformat_minor": 4
}
